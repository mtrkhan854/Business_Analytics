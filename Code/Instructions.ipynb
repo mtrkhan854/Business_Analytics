{
  "nbformat": 4,
  "nbformat_minor": 0,
  "metadata": {
    "colab": {
      "name": "Instructions.ipynb",
      "provenance": []
    },
    "kernelspec": {
      "name": "python3",
      "display_name": "Python 3"
    }
  },
  "cells": [
    {
      "cell_type": "markdown",
      "metadata": {
        "id": "i_pgJqxwTfAn",
        "colab_type": "text"
      },
      "source": [
        "#Load Model"
      ]
    },
    {
      "cell_type": "code",
      "metadata": {
        "id": "_7XLTYahTU8g",
        "colab_type": "code",
        "colab": {}
      },
      "source": [
        "from google.colab import files\n",
        "uploaded = files.upload()"
      ],
      "execution_count": 0,
      "outputs": []
    },
    {
      "cell_type": "markdown",
      "metadata": {
        "id": "6pTIWg4iTlsC",
        "colab_type": "text"
      },
      "source": [
        "#Import Modules and Packages"
      ]
    },
    {
      "cell_type": "code",
      "metadata": {
        "id": "so6iZPORTjUl",
        "colab_type": "code",
        "colab": {}
      },
      "source": [
        "import io\n",
        "import pandas as pd\n",
        "from sklearn.model_selection import train_test_split\n",
        "from sklearn.linear_model import LogisticRegression\n",
        "from sklearn import metrics\n",
        "from sklearn.metrics import classification_report, confusion_matrix\n",
        "from sklearn.model_selection import StratifiedShuffleSplit\n",
        "from imblearn.over_sampling import ADASYN \n",
        "from sklearn.metrics import recall_score\n",
        "from sklearn.naive_bayes import GaussianNB\n",
        "from sklearn.neighbors import KNeighborsClassifier\n",
        "import numpy as np\n",
        "import matplotlib.pyplot as plt\n",
        "from sklearn import preprocessing\n",
        "from sklearn.model_selection import GridSearchCV\n",
        "import pickle\n",
        "from google.colab import files\n",
        "from sklearn.metrics import roc_auc_score\n",
        "from sklearn.metrics import roc_curve\n",
        "from google.colab import drive\n",
        "from sklearn.model_selection import cross_val_predict"
      ],
      "execution_count": 0,
      "outputs": []
    },
    {
      "cell_type": "markdown",
      "metadata": {
        "id": "-EK6xeRDTqk9",
        "colab_type": "text"
      },
      "source": [
        "#Perform data preprocessing"
      ]
    },
    {
      "cell_type": "code",
      "metadata": {
        "id": "Ew6TVFZwTxTO",
        "colab_type": "code",
        "colab": {}
      },
      "source": [
        "feature_cols_0 = ['age', 'job', 'marital', 'education',  'default', 'balance', 'housing', 'loan', 'contact', 'day', 'campaign', 'pdays', 'previous', 'poutcome']\n",
        "X_0 = df_post[feature_cols_0]\n",
        "y_0 = df_post.y"
      ],
      "execution_count": 0,
      "outputs": []
    },
    {
      "cell_type": "markdown",
      "metadata": {
        "id": "WwDFCNriUTMW",
        "colab_type": "text"
      },
      "source": [
        "#Perform additive smoothing using the following function"
      ]
    },
    {
      "cell_type": "code",
      "metadata": {
        "id": "3SbIVl-XrqIP",
        "colab_type": "code",
        "colab": {}
      },
      "source": [
        "def calc_smooth_mean(df, by, on, m):\n",
        "    # Compute the global mean\n",
        "    mean = df[on].mean()\n",
        "\n",
        "    # Compute the number of values and the mean of each group\n",
        "    agg = df.groupby(by)[on].agg(['count', 'mean'])\n",
        "    counts = agg['count']\n",
        "    means = agg['mean']\n",
        "\n",
        "    # Compute the \"smoothed\" means\n",
        "    smooth = (counts * means + m * mean) / (counts + m)\n",
        "\n",
        "    # Replace each value by the according smoothed mean\n",
        "    return df[by].map(smooth)"
      ],
      "execution_count": 0,
      "outputs": []
    },
    {
      "cell_type": "markdown",
      "metadata": {
        "id": "nrjeTwZYUgpV",
        "colab_type": "text"
      },
      "source": [
        "#Perform Normalization"
      ]
    },
    {
      "cell_type": "code",
      "metadata": {
        "id": "9KrVa-G1Ujs5",
        "colab_type": "code",
        "colab": {}
      },
      "source": [
        "df_post_numeric = X_0[['age', 'balance','day', 'campaign', 'pdays', 'previous']]\n",
        "min_max_scaler = preprocessing.MinMaxScaler()\n",
        "numeric_normed_df_post = min_max_scaler.fit_transform(df_post_numeric)\n",
        "df_post_numeric_normed = pd.DataFrame(numeric_normed_df_post)"
      ],
      "execution_count": 0,
      "outputs": []
    },
    {
      "cell_type": "code",
      "metadata": {
        "id": "zCFKCm80Uqcg",
        "colab_type": "code",
        "colab": {}
      },
      "source": [
        "df_post_numeric_normed.columns = ['age', 'balance','day', 'campaign', 'pdays', 'previous']"
      ],
      "execution_count": 0,
      "outputs": []
    },
    {
      "cell_type": "code",
      "metadata": {
        "id": "oRfP_qXgUrNI",
        "colab_type": "code",
        "colab": {}
      },
      "source": [
        "feature_cols_6 = ['job', 'marital', 'education',  'default','housing', 'loan', 'contact','poutcome']\n",
        "df_post_all_n = df_post[feature_cols_6]"
      ],
      "execution_count": 0,
      "outputs": []
    },
    {
      "cell_type": "code",
      "metadata": {
        "id": "wP0G7epZU8K6",
        "colab_type": "code",
        "colab": {}
      },
      "source": [
        "df_post_all_n = df_post_all_n.join(df_post_numeric_normed)"
      ],
      "execution_count": 0,
      "outputs": []
    },
    {
      "cell_type": "markdown",
      "metadata": {
        "id": "3NnUjGXAVCFu",
        "colab_type": "text"
      },
      "source": [
        "#Loading testing final model (final_logis_reg.sav)"
      ]
    },
    {
      "cell_type": "code",
      "metadata": {
        "id": "fdgqNoRyVKVq",
        "colab_type": "code",
        "colab": {}
      },
      "source": [
        "drive.mount('/gdrive')"
      ],
      "execution_count": 0,
      "outputs": []
    },
    {
      "cell_type": "code",
      "metadata": {
        "id": "12I7aOPFVNVs",
        "colab_type": "code",
        "colab": {}
      },
      "source": [
        "loaded_final_model = pickle.load(open('final_logis_reg.sav', 'rb'))"
      ],
      "execution_count": 0,
      "outputs": []
    },
    {
      "cell_type": "code",
      "metadata": {
        "id": "62QaZQ7_VP3D",
        "colab_type": "code",
        "colab": {}
      },
      "source": [
        "check_result = loaded_final_model.score(X_test_f, y_test_f)"
      ],
      "execution_count": 0,
      "outputs": []
    },
    {
      "cell_type": "code",
      "metadata": {
        "id": "jmIx7edjVS4n",
        "colab_type": "code",
        "colab": {}
      },
      "source": [
        "check_result = loaded_final_model.score(X_test_f, y_test_f) #will only give accuracy. "
      ],
      "execution_count": 0,
      "outputs": []
    },
    {
      "cell_type": "markdown",
      "metadata": {
        "id": "JduiX91sVull",
        "colab_type": "text"
      },
      "source": [
        "for displaying additional metric please apply classification_report function on the model as documented in the scikit documentation: https://scikit-learn.org/stable/modules/generated/sklearn.metrics.classification_report.html"
      ]
    },
    {
      "cell_type": "code",
      "metadata": {
        "id": "wmqYdQPrVvbi",
        "colab_type": "code",
        "colab": {}
      },
      "source": [
        ""
      ],
      "execution_count": 0,
      "outputs": []
    }
  ]
}