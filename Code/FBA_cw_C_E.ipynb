{
  "nbformat": 4,
  "nbformat_minor": 0,
  "metadata": {
    "colab": {
      "name": "FBA-cw-C_E.ipynb",
      "provenance": [],
      "collapsed_sections": []
    },
    "kernelspec": {
      "name": "python3",
      "display_name": "Python 3"
    }
  },
  "cells": [
    {
      "cell_type": "markdown",
      "metadata": {
        "id": "jRTNFdpQ5ob9",
        "colab_type": "text"
      },
      "source": [
        "#**Upload 2 datasets: df_post and df_post4**\n",
        "\n",
        "\n",
        "> df_post: entire pre-processed dataset. Doesn't contain duration feature. All categorical features have been mapped accordingly\n",
        "\n",
        "\n",
        "\n",
        "> df_post4: pre-processed  dataset with only 5 features that were present in the first 4 layers of the decision tree from previous section. The 5 features are: patience, age, job, contact, balance\n",
        "\n",
        "\n",
        "\n"
      ]
    },
    {
      "cell_type": "code",
      "metadata": {
        "id": "zR3dFxgr3nXh",
        "colab_type": "code",
        "outputId": "37fd89dc-5f22-4b41-c25b-851261bfd4d1",
        "colab": {
          "resources": {
            "http://localhost:8080/nbextensions/google.colab/files.js": {
              "data": "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",
              "ok": true,
              "headers": [
                [
                  "content-type",
                  "application/javascript"
                ]
              ],
              "status": 200,
              "status_text": ""
            }
          },
          "base_uri": "https://localhost:8080/",
          "height": 74
        }
      },
      "source": [
        "from google.colab import files\n",
        "uploaded = files.upload()"
      ],
      "execution_count": 4,
      "outputs": [
        {
          "output_type": "display_data",
          "data": {
            "text/html": [
              "\n",
              "     <input type=\"file\" id=\"files-0897855a-8591-4cef-bffe-c6592dc99dd8\" name=\"files[]\" multiple disabled />\n",
              "     <output id=\"result-0897855a-8591-4cef-bffe-c6592dc99dd8\">\n",
              "      Upload widget is only available when the cell has been executed in the\n",
              "      current browser session. Please rerun this cell to enable.\n",
              "      </output>\n",
              "      <script src=\"/nbextensions/google.colab/files.js\"></script> "
            ],
            "text/plain": [
              "<IPython.core.display.HTML object>"
            ]
          },
          "metadata": {
            "tags": []
          }
        },
        {
          "output_type": "stream",
          "text": [
            "Saving df_post4.csv to df_post4.csv\n"
          ],
          "name": "stdout"
        }
      ]
    },
    {
      "cell_type": "code",
      "metadata": {
        "id": "6pBQHachEkze",
        "colab_type": "code",
        "colab": {}
      },
      "source": [
        "import io\n",
        "import pandas as pd\n",
        "from sklearn.model_selection import train_test_split\n",
        "from sklearn.linear_model import LogisticRegression\n",
        "from sklearn import metrics\n",
        "from sklearn.metrics import classification_report, confusion_matrix\n",
        "from sklearn.model_selection import StratifiedShuffleSplit\n",
        "from imblearn.over_sampling import ADASYN \n",
        "from sklearn.metrics import recall_score\n",
        "from sklearn.naive_bayes import GaussianNB\n",
        "from sklearn.neighbors import KNeighborsClassifier\n",
        "import numpy as np\n",
        "import matplotlib.pyplot as plt\n",
        "from sklearn import preprocessing\n",
        "from sklearn.model_selection import GridSearchCV\n",
        "import pickle\n",
        "from google.colab import files\n",
        "from sklearn.metrics import roc_auc_score\n",
        "from sklearn.metrics import roc_curve\n",
        "from google.colab import drive\n",
        "from sklearn.model_selection import cross_val_predict"
      ],
      "execution_count": 0,
      "outputs": []
    },
    {
      "cell_type": "code",
      "metadata": {
        "id": "LUbkd1YezduT",
        "colab_type": "code",
        "colab": {}
      },
      "source": [
        "df_post = pd.read_csv(io.StringIO(uploaded['df_post.csv'].decode('utf-8')))"
      ],
      "execution_count": 0,
      "outputs": []
    },
    {
      "cell_type": "code",
      "metadata": {
        "colab_type": "code",
        "id": "nKAXeNGV47Yd",
        "colab": {}
      },
      "source": [
        "df_post4 = pd.read_csv(io.StringIO(uploaded['df_post4.csv'].decode('utf-8')))"
      ],
      "execution_count": 0,
      "outputs": []
    },
    {
      "cell_type": "markdown",
      "metadata": {
        "id": "_RaXhOwL7VBS",
        "colab_type": "text"
      },
      "source": [
        "#**Training Logistic Regression Using df_post dataset**"
      ]
    },
    {
      "cell_type": "code",
      "metadata": {
        "id": "vBiL2C7_7Sgt",
        "colab_type": "code",
        "colab": {}
      },
      "source": [
        "feature_cols_0 = ['age', 'job', 'marital', 'education',  'default', 'balance', 'housing', 'loan', 'contact', 'day', 'campaign', 'pdays', 'previous', 'poutcome']\n",
        "X_0 = df_post[feature_cols_0]\n",
        "y_0 = df_post.y"
      ],
      "execution_count": 0,
      "outputs": []
    },
    {
      "cell_type": "code",
      "metadata": {
        "id": "r4l7fiqz7pQy",
        "colab_type": "code",
        "colab": {}
      },
      "source": [
        "X_train_0, X_test_0, y_train_0, y_test_0= train_test_split(X_0, y_0, test_size = 0.3, random_state = 1)"
      ],
      "execution_count": 0,
      "outputs": []
    },
    {
      "cell_type": "code",
      "metadata": {
        "id": "yDBS7Vs28fKg",
        "colab_type": "code",
        "colab": {}
      },
      "source": [
        "logmodel_0 = LogisticRegression(max_iter=180)"
      ],
      "execution_count": 0,
      "outputs": []
    },
    {
      "cell_type": "code",
      "metadata": {
        "id": "PBFnDgmX8n4C",
        "colab_type": "code",
        "colab": {}
      },
      "source": [
        "logmodel_0 = logmodel_0.fit(X_train_0, y_train_0) "
      ],
      "execution_count": 0,
      "outputs": []
    },
    {
      "cell_type": "code",
      "metadata": {
        "id": "AG-XmZSw9JqO",
        "colab_type": "code",
        "colab": {}
      },
      "source": [
        "y_pred_0 = logmodel.predict(X_test_0)"
      ],
      "execution_count": 0,
      "outputs": []
    },
    {
      "cell_type": "code",
      "metadata": {
        "id": "qZ6qXiZh9Rc2",
        "colab_type": "code",
        "outputId": "5bf65038-39ad-4e81-935d-2b7d62fbe962",
        "colab": {
          "base_uri": "https://localhost:8080/",
          "height": 34
        }
      },
      "source": [
        "print(\"Accuracy:\",metrics.accuracy_score(y_test_0, y_pred_0))"
      ],
      "execution_count": 0,
      "outputs": [
        {
          "output_type": "stream",
          "text": [
            "Accuracy: 0.8813333333333333\n"
          ],
          "name": "stdout"
        }
      ]
    },
    {
      "cell_type": "code",
      "metadata": {
        "id": "qWg-3lJT_Nnb",
        "colab_type": "code",
        "outputId": "1d675b51-9a6a-46fb-c423-28556a244850",
        "colab": {
          "base_uri": "https://localhost:8080/",
          "height": 170
        }
      },
      "source": [
        "print(classification_report(y_test_0, y_pred_0))"
      ],
      "execution_count": 0,
      "outputs": [
        {
          "output_type": "stream",
          "text": [
            "              precision    recall  f1-score   support\n",
            "\n",
            "           0       0.88      1.00      0.94      1323\n",
            "           1       0.00      0.00      0.00       177\n",
            "\n",
            "    accuracy                           0.88      1500\n",
            "   macro avg       0.44      0.50      0.47      1500\n",
            "weighted avg       0.78      0.88      0.83      1500\n",
            "\n"
          ],
          "name": "stdout"
        }
      ]
    },
    {
      "cell_type": "code",
      "metadata": {
        "id": "d4bP32JfAwoK",
        "colab_type": "code",
        "outputId": "ce5424eb-8644-46d9-f261-55f6d23b2bfd",
        "colab": {
          "base_uri": "https://localhost:8080/",
          "height": 51
        }
      },
      "source": [
        "print (confusion_matrix(y_test_0, y_pred_0))"
      ],
      "execution_count": 0,
      "outputs": [
        {
          "output_type": "stream",
          "text": [
            "[[1322    1]\n",
            " [ 177    0]]\n"
          ],
          "name": "stdout"
        }
      ]
    },
    {
      "cell_type": "markdown",
      "metadata": {
        "id": "IpZr6DpL_E4i",
        "colab_type": "text"
      },
      "source": [
        "#**Training Logistic Regression: Using df_post dataset and StratifiedShuffleSplit**\n",
        "\n",
        "> StratifiedShuffleSplit: Scikit Learn function for stratified sampling - i.e. split traget class proportionally between training and test set.\n",
        "\n"
      ]
    },
    {
      "cell_type": "code",
      "metadata": {
        "id": "FfNnzZ75-yeQ",
        "colab_type": "code",
        "colab": {}
      },
      "source": [
        "feature_cols_1 = ['age', 'job', 'marital', 'education',  'default', 'balance', 'housing', 'loan', 'contact', 'day', 'campaign', 'pdays', 'previous', 'poutcome']\n",
        "X_1 = df_post[feature_cols_1]\n",
        "y_1 = df_post.y"
      ],
      "execution_count": 0,
      "outputs": []
    },
    {
      "cell_type": "code",
      "metadata": {
        "id": "IOHE9mwVN_oI",
        "colab_type": "code",
        "colab": {}
      },
      "source": [
        "X_train_1, X_test_1, y_train_1, y_test_1 = train_test_split(X_1, y_1, test_size = 0.3, random_state = 1, stratify = y_1)"
      ],
      "execution_count": 0,
      "outputs": []
    },
    {
      "cell_type": "code",
      "metadata": {
        "id": "D1b3x3VCOM23",
        "colab_type": "code",
        "colab": {}
      },
      "source": [
        "logmodel_1 = LogisticRegression(max_iter=180)"
      ],
      "execution_count": 0,
      "outputs": []
    },
    {
      "cell_type": "code",
      "metadata": {
        "id": "kcp-YmOVOQhj",
        "colab_type": "code",
        "colab": {}
      },
      "source": [
        "logmodel_1 = logmodel_1.fit(X_train_1, y_train_1) "
      ],
      "execution_count": 0,
      "outputs": []
    },
    {
      "cell_type": "code",
      "metadata": {
        "id": "gsIsgEOgOauI",
        "colab_type": "code",
        "colab": {}
      },
      "source": [
        "y_pred_1 = logmodel_1.predict(X_test_1)"
      ],
      "execution_count": 0,
      "outputs": []
    },
    {
      "cell_type": "code",
      "metadata": {
        "id": "11duteLuOm7Z",
        "colab_type": "code",
        "outputId": "d68d8f1b-6aff-48bf-e297-f74fa21dcd25",
        "colab": {
          "base_uri": "https://localhost:8080/",
          "height": 34
        }
      },
      "source": [
        "print(\"Accuracy:\",metrics.accuracy_score(y_test_1, y_pred_1))"
      ],
      "execution_count": 0,
      "outputs": [
        {
          "output_type": "stream",
          "text": [
            "Accuracy: 0.8813333333333333\n"
          ],
          "name": "stdout"
        }
      ]
    },
    {
      "cell_type": "code",
      "metadata": {
        "id": "PAIwSfnLOwoI",
        "colab_type": "code",
        "outputId": "7c21e3e1-d95b-483c-ff69-1afe36446245",
        "colab": {
          "base_uri": "https://localhost:8080/",
          "height": 170
        }
      },
      "source": [
        "print(classification_report(y_test_1, y_pred_1))"
      ],
      "execution_count": 0,
      "outputs": [
        {
          "output_type": "stream",
          "text": [
            "              precision    recall  f1-score   support\n",
            "\n",
            "           0       0.88      1.00      0.94      1324\n",
            "           1       0.00      0.00      0.00       176\n",
            "\n",
            "    accuracy                           0.88      1500\n",
            "   macro avg       0.44      0.50      0.47      1500\n",
            "weighted avg       0.78      0.88      0.83      1500\n",
            "\n"
          ],
          "name": "stdout"
        }
      ]
    },
    {
      "cell_type": "code",
      "metadata": {
        "id": "CA0TURccO2RM",
        "colab_type": "code",
        "outputId": "0e4e65e3-a1ee-40a6-b1a0-e10d316f4ed2",
        "colab": {
          "base_uri": "https://localhost:8080/",
          "height": 51
        }
      },
      "source": [
        "print (confusion_matrix(y_test_1, y_pred_1))"
      ],
      "execution_count": 0,
      "outputs": [
        {
          "output_type": "stream",
          "text": [
            "[[1322    2]\n",
            " [ 176    0]]\n"
          ],
          "name": "stdout"
        }
      ]
    },
    {
      "cell_type": "markdown",
      "metadata": {
        "id": "cWQV7Gb3S2yZ",
        "colab_type": "text"
      },
      "source": [
        "**ADASYN on df_post dataset**: this section is redundant and not used for final report of the model. Only used for exploratory data analysis.  \n",
        "\n",
        "\n",
        "> Oversampling on training set for minority class. Attempt to decrease the dataset imbalance. After doing this section, it was realized that the data should be split into 60:20:20 = train:val:test sets\n",
        "\n"
      ]
    },
    {
      "cell_type": "code",
      "metadata": {
        "id": "Lu5cGsYSPMnP",
        "colab_type": "code",
        "colab": {}
      },
      "source": [
        "def makeOverSamplesADASYN(X,y):\n",
        " #input DataFrame\n",
        " #X →Independent Variable in DataFrame\\\n",
        " #y →dependent Variable in Pandas DataFrame format\n",
        " sm = ADASYN(sampling_strategy = 1.0, random_state = 42)\n",
        " X_res, y_res = sm.fit_resample(X, y)\n",
        " return(X_res,y_res)"
      ],
      "execution_count": 0,
      "outputs": []
    },
    {
      "cell_type": "code",
      "metadata": {
        "id": "StalN2J0TB4G",
        "colab_type": "code",
        "colab": {}
      },
      "source": [
        "feature_cols_2 = ['age', 'job', 'marital', 'education',  'default', 'balance', 'housing', 'loan', 'contact', 'day', 'campaign', 'pdays', 'previous', 'poutcome']\n",
        "X_2 = df_post[feature_cols_2]\n",
        "y_2 = df_post.y"
      ],
      "execution_count": 0,
      "outputs": []
    },
    {
      "cell_type": "code",
      "metadata": {
        "id": "9ymP6yFGUv5Y",
        "colab_type": "code",
        "colab": {}
      },
      "source": [
        "X_train_2, X_test_2, y_train_2, y_test_2 = train_test_split(X_2, y_2, test_size = 0.3, random_state = 42)"
      ],
      "execution_count": 0,
      "outputs": []
    },
    {
      "cell_type": "code",
      "metadata": {
        "id": "otEHmF5MbD9V",
        "colab_type": "code",
        "outputId": "92929961-c672-495e-b52c-90e9fb835991",
        "colab": {
          "base_uri": "https://localhost:8080/",
          "height": 51
        }
      },
      "source": [
        "X_train_2_res, y_train_2_res = makeOverSamplesADASYN(X_train_2, y_train_2)"
      ],
      "execution_count": 0,
      "outputs": [
        {
          "output_type": "stream",
          "text": [
            "/usr/local/lib/python3.6/dist-packages/sklearn/utils/deprecation.py:87: FutureWarning: Function safe_indexing is deprecated; safe_indexing is deprecated in version 0.22 and will be removed in version 0.24.\n",
            "  warnings.warn(msg, category=FutureWarning)\n"
          ],
          "name": "stderr"
        }
      ]
    },
    {
      "cell_type": "code",
      "metadata": {
        "id": "BJABqE9Xb185",
        "colab_type": "code",
        "colab": {}
      },
      "source": [
        "logmodel_2 = LogisticRegression(max_iter=300)"
      ],
      "execution_count": 0,
      "outputs": []
    },
    {
      "cell_type": "code",
      "metadata": {
        "id": "GIQYtJglb5l3",
        "colab_type": "code",
        "colab": {}
      },
      "source": [
        "logmodel_2 = logmodel_2.fit(X_train_2_res, y_train_2_res) "
      ],
      "execution_count": 0,
      "outputs": []
    },
    {
      "cell_type": "code",
      "metadata": {
        "id": "NOFBS2kocWcj",
        "colab_type": "code",
        "colab": {}
      },
      "source": [
        "y_pred_2 = logmodel_2.predict(X_test_2)"
      ],
      "execution_count": 0,
      "outputs": []
    },
    {
      "cell_type": "code",
      "metadata": {
        "id": "v64rDHRccsdV",
        "colab_type": "code",
        "outputId": "1f2af65e-ed2a-40a5-ea5c-9fe6c019bfe9",
        "colab": {
          "base_uri": "https://localhost:8080/",
          "height": 34
        }
      },
      "source": [
        "print(\"Accuracy:\",metrics.accuracy_score(y_test_2, y_pred_2))"
      ],
      "execution_count": 0,
      "outputs": [
        {
          "output_type": "stream",
          "text": [
            "Accuracy: 0.7166666666666667\n"
          ],
          "name": "stdout"
        }
      ]
    },
    {
      "cell_type": "code",
      "metadata": {
        "id": "23fnUNoqc1AM",
        "colab_type": "code",
        "outputId": "04293757-c903-46bb-dbc1-9e32ab8594fa",
        "colab": {
          "base_uri": "https://localhost:8080/",
          "height": 170
        }
      },
      "source": [
        "print(classification_report(y_test_2, y_pred_2))"
      ],
      "execution_count": 0,
      "outputs": [
        {
          "output_type": "stream",
          "text": [
            "              precision    recall  f1-score   support\n",
            "\n",
            "           0       0.94      0.73      0.82      1333\n",
            "           1       0.22      0.60      0.32       167\n",
            "\n",
            "    accuracy                           0.72      1500\n",
            "   macro avg       0.58      0.67      0.57      1500\n",
            "weighted avg       0.86      0.72      0.77      1500\n",
            "\n"
          ],
          "name": "stdout"
        }
      ]
    },
    {
      "cell_type": "code",
      "metadata": {
        "id": "U2e-2RTteYIU",
        "colab_type": "code",
        "outputId": "5de0a722-668d-47b1-b7a3-337f8b068507",
        "colab": {
          "base_uri": "https://localhost:8080/",
          "height": 51
        }
      },
      "source": [
        "print (confusion_matrix(y_test_2, y_pred_2))"
      ],
      "execution_count": 0,
      "outputs": [
        {
          "output_type": "stream",
          "text": [
            "[[974 359]\n",
            " [ 66 101]]\n"
          ],
          "name": "stdout"
        }
      ]
    },
    {
      "cell_type": "markdown",
      "metadata": {
        "colab_type": "text",
        "id": "1ndvVps-fbTo"
      },
      "source": [
        "#**Splitting *df_post* dataset into : 60:20:20 (train:validate:test)**\n",
        "\n",
        "\n",
        "\n",
        "> All models trained and validated on df_post dataset will make use of data produced from this step\n",
        "\n",
        "\n"
      ]
    },
    {
      "cell_type": "code",
      "metadata": {
        "colab_type": "code",
        "id": "orSPpfS2ip40",
        "colab": {}
      },
      "source": [
        "feature_cols_3 = ['age', 'job', 'marital', 'education',  'default', 'balance', 'housing', 'loan', 'contact', 'day', 'campaign', 'pdays', 'previous', 'poutcome']\n",
        "X_3 = df_post[feature_cols_3]\n",
        "y_3 = df_post.y"
      ],
      "execution_count": 0,
      "outputs": []
    },
    {
      "cell_type": "code",
      "metadata": {
        "id": "-Dnc3kpieiVk",
        "colab_type": "code",
        "colab": {}
      },
      "source": [
        "X_train_t, X_test, y_train_t, y_test = train_test_split(X_3, y_3, test_size=0.2, random_state=42)\n",
        "X_train, X_val, y_train, y_val = train_test_split(X_train_t, y_train_t, test_size=0.25, random_state=42)"
      ],
      "execution_count": 0,
      "outputs": []
    },
    {
      "cell_type": "markdown",
      "metadata": {
        "id": "Ukzvvbw31foi",
        "colab_type": "text"
      },
      "source": [
        ""
      ]
    },
    {
      "cell_type": "markdown",
      "metadata": {
        "colab_type": "text",
        "id": "EX8Dn3F41gLd"
      },
      "source": [
        "#**Applying ADASYN on *df_post* dataset AFTER split**\n",
        "\n",
        "\n",
        "> All models trained and validated on df_post dataset will make use of data produced from this step\n",
        "\n",
        "\n"
      ]
    },
    {
      "cell_type": "code",
      "metadata": {
        "id": "gSoaWwx5j-MZ",
        "colab_type": "code",
        "colab": {}
      },
      "source": [
        "def makeOverSamplesADASYN_auto(X,y):\n",
        " #input DataFrame\n",
        " #X →Independent Variable in DataFrame\\\n",
        " #y →dependent Variable in Pandas DataFrame format\n",
        " sm = ADASYN(random_state = 42)\n",
        " X_res, y_res = sm.fit_resample(X, y)\n",
        " return(X_res,y_res)"
      ],
      "execution_count": 0,
      "outputs": []
    },
    {
      "cell_type": "code",
      "metadata": {
        "id": "seUZzvgQmloq",
        "colab_type": "code",
        "outputId": "99bbda19-7a02-46f2-c114-bcd4d068c9b5",
        "colab": {
          "base_uri": "https://localhost:8080/",
          "height": 71
        }
      },
      "source": [
        "X_train_res, y_train_res = makeOverSamplesADASYN_auto(X_train, y_train)"
      ],
      "execution_count": 9,
      "outputs": [
        {
          "output_type": "stream",
          "text": [
            "/usr/local/lib/python3.6/dist-packages/sklearn/utils/deprecation.py:87: FutureWarning: Function safe_indexing is deprecated; safe_indexing is deprecated in version 0.22 and will be removed in version 0.24.\n",
            "  warnings.warn(msg, category=FutureWarning)\n"
          ],
          "name": "stderr"
        }
      ]
    },
    {
      "cell_type": "markdown",
      "metadata": {
        "id": "HvGubRav1wzv",
        "colab_type": "text"
      },
      "source": [
        "#**Applying Logistic Regression on *df_post* dataset**\n",
        "\n"
      ]
    },
    {
      "cell_type": "code",
      "metadata": {
        "id": "SeUFTWUfm-Lq",
        "colab_type": "code",
        "colab": {}
      },
      "source": [
        "logmodel_3 = LogisticRegression(max_iter=300)"
      ],
      "execution_count": 0,
      "outputs": []
    },
    {
      "cell_type": "code",
      "metadata": {
        "id": "K7T2N3XznFLk",
        "colab_type": "code",
        "colab": {}
      },
      "source": [
        "logmodel_3 = logmodel_3.fit(X_train_res, y_train_res) "
      ],
      "execution_count": 0,
      "outputs": []
    },
    {
      "cell_type": "code",
      "metadata": {
        "id": "WCT_7kVenL3-",
        "colab_type": "code",
        "colab": {}
      },
      "source": [
        "y_pred_3 = logmodel_3.predict(X_val)"
      ],
      "execution_count": 0,
      "outputs": []
    },
    {
      "cell_type": "code",
      "metadata": {
        "id": "De9zgo1EnuIO",
        "colab_type": "code",
        "outputId": "3a1f6b76-e4ff-4097-80b3-4af5a0d151e7",
        "colab": {
          "base_uri": "https://localhost:8080/",
          "height": 34
        }
      },
      "source": [
        "print(\"Accuracy:\",metrics.accuracy_score(y_val, y_pred_3))"
      ],
      "execution_count": 13,
      "outputs": [
        {
          "output_type": "stream",
          "text": [
            "Accuracy: 0.665\n"
          ],
          "name": "stdout"
        }
      ]
    },
    {
      "cell_type": "code",
      "metadata": {
        "id": "A7EZUHobn4MY",
        "colab_type": "code",
        "outputId": "f75e9983-fe56-4222-f71b-9876b97f21fa",
        "colab": {
          "base_uri": "https://localhost:8080/",
          "height": 170
        }
      },
      "source": [
        "print(classification_report(y_val, y_pred_3))"
      ],
      "execution_count": 14,
      "outputs": [
        {
          "output_type": "stream",
          "text": [
            "              precision    recall  f1-score   support\n",
            "\n",
            "           0       0.91      0.69      0.79       886\n",
            "           1       0.16      0.46      0.24       114\n",
            "\n",
            "    accuracy                           0.67      1000\n",
            "   macro avg       0.54      0.58      0.51      1000\n",
            "weighted avg       0.82      0.67      0.72      1000\n",
            "\n"
          ],
          "name": "stdout"
        }
      ]
    },
    {
      "cell_type": "code",
      "metadata": {
        "id": "dS49bmDHoN4z",
        "colab_type": "code",
        "outputId": "042d46dd-b4c6-47eb-c57b-596007667069",
        "colab": {
          "base_uri": "https://localhost:8080/",
          "height": 51
        }
      },
      "source": [
        "print (confusion_matrix(y_val, y_pred_3))"
      ],
      "execution_count": 15,
      "outputs": [
        {
          "output_type": "stream",
          "text": [
            "[[612 274]\n",
            " [ 61  53]]\n"
          ],
          "name": "stdout"
        }
      ]
    },
    {
      "cell_type": "code",
      "metadata": {
        "id": "O9XlVPsQok-R",
        "colab_type": "code",
        "outputId": "b4b4f769-602e-4e94-bc97-f211dca2337b",
        "colab": {
          "base_uri": "https://localhost:8080/",
          "height": 136
        }
      },
      "source": [
        "print ('Validation Results for Logistic Regression on df_post')\n",
        "print (logmodel_3.score(X_val, y_val))\n",
        "print (recall_score(y_val, logmodel_3.predict(X_val)))\n",
        "print ('\\nTest Results')\n",
        "print (logmodel_3.score(X_test, y_test))\n",
        "print (recall_score(y_test, logmodel_3.predict(X_test)))"
      ],
      "execution_count": 49,
      "outputs": [
        {
          "output_type": "stream",
          "text": [
            "Validation Results for Logistic Regression on df_post\n",
            "0.665\n",
            "0.4649122807017544\n",
            "\n",
            "Test Results\n",
            "0.668\n",
            "0.5045871559633027\n"
          ],
          "name": "stdout"
        }
      ]
    },
    {
      "cell_type": "code",
      "metadata": {
        "id": "8t4pspLTqFOb",
        "colab_type": "code",
        "colab": {}
      },
      "source": [
        "y_pred_3_test = logmodel_3.predict(X_test)"
      ],
      "execution_count": 0,
      "outputs": []
    },
    {
      "cell_type": "code",
      "metadata": {
        "id": "dT-oQqT5s0Qz",
        "colab_type": "code",
        "outputId": "2ec7e94c-815e-440d-ff6a-6c7abb4ca2eb",
        "colab": {
          "base_uri": "https://localhost:8080/",
          "height": 34
        }
      },
      "source": [
        "print(\"Accuracy:\",metrics.accuracy_score(y_test, y_pred_3_test))"
      ],
      "execution_count": 18,
      "outputs": [
        {
          "output_type": "stream",
          "text": [
            "Accuracy: 0.668\n"
          ],
          "name": "stdout"
        }
      ]
    },
    {
      "cell_type": "code",
      "metadata": {
        "id": "NsaFjSfCs5CW",
        "colab_type": "code",
        "outputId": "a19c1323-9b41-4ccf-a450-ffa57e45616b",
        "colab": {
          "base_uri": "https://localhost:8080/",
          "height": 170
        }
      },
      "source": [
        "print(classification_report(y_test, y_pred_3_test))"
      ],
      "execution_count": 19,
      "outputs": [
        {
          "output_type": "stream",
          "text": [
            "              precision    recall  f1-score   support\n",
            "\n",
            "           0       0.92      0.69      0.79       891\n",
            "           1       0.17      0.50      0.25       109\n",
            "\n",
            "    accuracy                           0.67      1000\n",
            "   macro avg       0.54      0.60      0.52      1000\n",
            "weighted avg       0.84      0.67      0.73      1000\n",
            "\n"
          ],
          "name": "stdout"
        }
      ]
    },
    {
      "cell_type": "code",
      "metadata": {
        "id": "QqZvOwB5GnbQ",
        "colab_type": "code",
        "colab": {
          "base_uri": "https://localhost:8080/",
          "height": 51
        },
        "outputId": "4e401abb-f3a8-483e-c87e-0d2b94aa7237"
      },
      "source": [
        "print (confusion_matrix(y_test, y_pred_3_test))"
      ],
      "execution_count": 50,
      "outputs": [
        {
          "output_type": "stream",
          "text": [
            "[[613 278]\n",
            " [ 54  55]]\n"
          ],
          "name": "stdout"
        }
      ]
    },
    {
      "cell_type": "markdown",
      "metadata": {
        "colab_type": "text",
        "id": "srIgV11Y2CoU"
      },
      "source": [
        "#**Splitting *df_post4* dataset into : 60:20:20 (train:validate:test)**\n",
        "\n",
        "\n",
        "> All models trained and validate on df_post4 dataset will make use of data produced from this step\n",
        "\n",
        "\n",
        "\n",
        "\n",
        "\n"
      ]
    },
    {
      "cell_type": "code",
      "metadata": {
        "id": "R93mz1vKtD3u",
        "colab_type": "code",
        "colab": {}
      },
      "source": [
        "feature_cols_4 = ['age', 'job', 'balance', 'contact', 'poutcome']\n",
        "X_4 = df_post4[feature_cols_4]\n",
        "y_4 = df_post4.y"
      ],
      "execution_count": 0,
      "outputs": []
    },
    {
      "cell_type": "code",
      "metadata": {
        "id": "JUaS2w--ykhD",
        "colab_type": "code",
        "colab": {}
      },
      "source": [
        "X_train_t_dfp4, X_test_dfp4, y_train_t_dfp4, y_test_dfp4 = train_test_split(X_4, y_4, test_size=0.2, random_state=42)\n",
        "X_train_dfp4, X_val_dfp4, y_train_dfp4, y_val_dfp4 = train_test_split(X_train_t_dfp4, y_train_t_dfp4, test_size=0.25, random_state=42)"
      ],
      "execution_count": 0,
      "outputs": []
    },
    {
      "cell_type": "markdown",
      "metadata": {
        "id": "EEZDtEHs2aDR",
        "colab_type": "text"
      },
      "source": [
        "#**Applying ADASYN on *df_post4* dataset AFTER split**\n",
        "\n",
        "\n",
        "> All models trained and validate on df_post4 dataset will make use of data produced from this step\n",
        "\n"
      ]
    },
    {
      "cell_type": "code",
      "metadata": {
        "id": "DtDIZIWDy-TI",
        "colab_type": "code",
        "outputId": "dfea1913-373a-4314-fd9d-316e85b8c9a6",
        "colab": {
          "base_uri": "https://localhost:8080/",
          "height": 71
        }
      },
      "source": [
        "X_train_res_dfp4, y_train_res_dfp4 = makeOverSamplesADASYN_auto(X_train_dfp4, y_train_dfp4)"
      ],
      "execution_count": 31,
      "outputs": [
        {
          "output_type": "stream",
          "text": [
            "/usr/local/lib/python3.6/dist-packages/sklearn/utils/deprecation.py:87: FutureWarning: Function safe_indexing is deprecated; safe_indexing is deprecated in version 0.22 and will be removed in version 0.24.\n",
            "  warnings.warn(msg, category=FutureWarning)\n"
          ],
          "name": "stderr"
        }
      ]
    },
    {
      "cell_type": "markdown",
      "metadata": {
        "id": "h1zGdanu2oSq",
        "colab_type": "text"
      },
      "source": [
        "#**Applying Logistic Regression on *df_post4* dataset**"
      ]
    },
    {
      "cell_type": "code",
      "metadata": {
        "id": "zyiWGMY8zF4h",
        "colab_type": "code",
        "colab": {}
      },
      "source": [
        "logmodel_4 = LogisticRegression(max_iter=300)"
      ],
      "execution_count": 0,
      "outputs": []
    },
    {
      "cell_type": "code",
      "metadata": {
        "id": "W-xYxgzDzKwN",
        "colab_type": "code",
        "colab": {}
      },
      "source": [
        "logmodel_4 = logmodel_4.fit(X_train_res_dfp4, y_train_res_dfp4) "
      ],
      "execution_count": 0,
      "outputs": []
    },
    {
      "cell_type": "code",
      "metadata": {
        "id": "Qo-61LFvzTJL",
        "colab_type": "code",
        "outputId": "1cf384ad-f59f-404f-f2fd-0dac4e732e77",
        "colab": {
          "base_uri": "https://localhost:8080/",
          "height": 136
        }
      },
      "source": [
        "print ('Validation Results for Logistic Regression on df_post4')\n",
        "print (logmodel_4.score(X_val_dfp4, y_val_dfp4))\n",
        "print (recall_score(y_val_dfp4, logmodel_4.predict(X_val_dfp4)))\n",
        "print ('\\nTest Results')\n",
        "print (logmodel_4.score(X_test_dfp4, y_test_dfp4))\n",
        "print (recall_score(y_test_dfp4, logmodel_4.predict(X_test_dfp4)))"
      ],
      "execution_count": 48,
      "outputs": [
        {
          "output_type": "stream",
          "text": [
            "Validation Results for Logistic Regression on df_post4\n",
            "0.784\n",
            "0.41228070175438597\n",
            "\n",
            "Test Results\n",
            "0.785\n",
            "0.3669724770642202\n"
          ],
          "name": "stdout"
        }
      ]
    },
    {
      "cell_type": "code",
      "metadata": {
        "id": "-xkHJAOJ0qqC",
        "colab_type": "code",
        "colab": {}
      },
      "source": [
        "y_pred_4_test = logmodel_4.predict(X_test_dfp4)"
      ],
      "execution_count": 0,
      "outputs": []
    },
    {
      "cell_type": "code",
      "metadata": {
        "id": "iuSp2oLr3DP4",
        "colab_type": "code",
        "outputId": "fff57276-3334-4867-ab65-b6c9b7a13a07",
        "colab": {
          "base_uri": "https://localhost:8080/",
          "height": 34
        }
      },
      "source": [
        "print(\"Accuracy:\",metrics.accuracy_score(y_test_dfp4, y_pred_4_test))"
      ],
      "execution_count": 36,
      "outputs": [
        {
          "output_type": "stream",
          "text": [
            "Accuracy: 0.785\n"
          ],
          "name": "stdout"
        }
      ]
    },
    {
      "cell_type": "code",
      "metadata": {
        "id": "TwAZQHFB3Lvt",
        "colab_type": "code",
        "outputId": "b903081b-c1e1-4cb1-d931-5c1ec3688764",
        "colab": {
          "base_uri": "https://localhost:8080/",
          "height": 170
        }
      },
      "source": [
        "print(classification_report(y_test_dfp4, y_pred_4_test))"
      ],
      "execution_count": 37,
      "outputs": [
        {
          "output_type": "stream",
          "text": [
            "              precision    recall  f1-score   support\n",
            "\n",
            "           0       0.92      0.84      0.87       891\n",
            "           1       0.22      0.37      0.27       109\n",
            "\n",
            "    accuracy                           0.79      1000\n",
            "   macro avg       0.57      0.60      0.57      1000\n",
            "weighted avg       0.84      0.79      0.81      1000\n",
            "\n"
          ],
          "name": "stdout"
        }
      ]
    },
    {
      "cell_type": "code",
      "metadata": {
        "id": "Lz7KK0M5HOIB",
        "colab_type": "code",
        "colab": {
          "base_uri": "https://localhost:8080/",
          "height": 51
        },
        "outputId": "9632c98a-75f9-473c-d491-2e7620c057e7"
      },
      "source": [
        "print (confusion_matrix(y_test_dfp4, y_pred_4_test))"
      ],
      "execution_count": 51,
      "outputs": [
        {
          "output_type": "stream",
          "text": [
            "[[745 146]\n",
            " [ 69  40]]\n"
          ],
          "name": "stdout"
        }
      ]
    },
    {
      "cell_type": "markdown",
      "metadata": {
        "id": "dFD2sKfkBnsA",
        "colab_type": "text"
      },
      "source": [
        "#**Applying Naive Bayes Classifier on df_post dataset**"
      ]
    },
    {
      "cell_type": "code",
      "metadata": {
        "id": "kO4ZWDWl3fce",
        "colab_type": "code",
        "colab": {}
      },
      "source": [
        "gnb_1 = GaussianNB()"
      ],
      "execution_count": 0,
      "outputs": []
    },
    {
      "cell_type": "code",
      "metadata": {
        "id": "YbA8hpJDC0cE",
        "colab_type": "code",
        "colab": {}
      },
      "source": [
        "gnb_1 = gnb_1.fit(X_train_res, y_train_res)"
      ],
      "execution_count": 0,
      "outputs": []
    },
    {
      "cell_type": "code",
      "metadata": {
        "colab_type": "code",
        "outputId": "0012ca18-fc5b-4cef-d813-9bf3c43deaaf",
        "id": "gnpQVVyADTw8",
        "colab": {
          "base_uri": "https://localhost:8080/",
          "height": 136
        }
      },
      "source": [
        "print ('Validation Results for Naive Bayes Classifier on df_post')\n",
        "print (gnb_1.score(X_val, y_val))\n",
        "print (recall_score(y_val, gnb_1.predict(X_val)))\n",
        "print ('\\nTest Results')\n",
        "print (gnb_1.score(X_test, y_test))\n",
        "print (recall_score(y_test, gnb_1.predict(X_test)))"
      ],
      "execution_count": 42,
      "outputs": [
        {
          "output_type": "stream",
          "text": [
            "Validation Results for Naive Bayes Classifier on df_post\n",
            "0.354\n",
            "0.8421052631578947\n",
            "\n",
            "Test Results\n",
            "0.325\n",
            "0.7706422018348624\n"
          ],
          "name": "stdout"
        }
      ]
    },
    {
      "cell_type": "code",
      "metadata": {
        "id": "BiyUNyS9EgAY",
        "colab_type": "code",
        "colab": {
          "base_uri": "https://localhost:8080/",
          "height": 170
        },
        "outputId": "e65eee99-1437-4b0b-a021-d2a0f5478688"
      },
      "source": [
        "print(classification_report(y_test, gnb_1.predict(X_test)))"
      ],
      "execution_count": 43,
      "outputs": [
        {
          "output_type": "stream",
          "text": [
            "              precision    recall  f1-score   support\n",
            "\n",
            "           0       0.91      0.27      0.42       891\n",
            "           1       0.11      0.77      0.20       109\n",
            "\n",
            "    accuracy                           0.33      1000\n",
            "   macro avg       0.51      0.52      0.31      1000\n",
            "weighted avg       0.82      0.33      0.39      1000\n",
            "\n"
          ],
          "name": "stdout"
        }
      ]
    },
    {
      "cell_type": "code",
      "metadata": {
        "id": "rtUyZI86HWbB",
        "colab_type": "code",
        "colab": {
          "base_uri": "https://localhost:8080/",
          "height": 51
        },
        "outputId": "7ccf39f1-fcfb-4b92-a124-375bf12079cb"
      },
      "source": [
        "print (confusion_matrix(y_test, gnb_1.predict(X_test)))"
      ],
      "execution_count": 52,
      "outputs": [
        {
          "output_type": "stream",
          "text": [
            "[[241 650]\n",
            " [ 25  84]]\n"
          ],
          "name": "stdout"
        }
      ]
    },
    {
      "cell_type": "markdown",
      "metadata": {
        "id": "ZHpD3UD-FM4E",
        "colab_type": "text"
      },
      "source": [
        "#**Applying Naive Bayes Classifier on df_post4 dataset**"
      ]
    },
    {
      "cell_type": "code",
      "metadata": {
        "id": "l5A3vlQWFDGs",
        "colab_type": "code",
        "colab": {}
      },
      "source": [
        "gnb_2 = GaussianNB()"
      ],
      "execution_count": 0,
      "outputs": []
    },
    {
      "cell_type": "code",
      "metadata": {
        "id": "4OgQ_ys0FRLq",
        "colab_type": "code",
        "colab": {}
      },
      "source": [
        "gnb_2 = gnb_2.fit(X_train_res_dfp4, y_train_res_dfp4)"
      ],
      "execution_count": 0,
      "outputs": []
    },
    {
      "cell_type": "code",
      "metadata": {
        "id": "JaXLWSCoFq9I",
        "colab_type": "code",
        "colab": {
          "base_uri": "https://localhost:8080/",
          "height": 136
        },
        "outputId": "02d9cb30-137e-4ffa-9ea7-ed3ce4ae5d0f"
      },
      "source": [
        "print ('Validation Results for Naive Bayes Classifier on df_post4')\n",
        "print (gnb_2.score(X_val_dfp4, y_val_dfp4))\n",
        "print (recall_score(y_val_dfp4, gnb_2.predict(X_val_dfp4)))\n",
        "print ('\\nTest Results')\n",
        "print (gnb_2.score(X_test_dfp4, y_test_dfp4))\n",
        "print (recall_score(y_test_dfp4, gnb_2.predict(X_test_dfp4)))"
      ],
      "execution_count": 47,
      "outputs": [
        {
          "output_type": "stream",
          "text": [
            "Validation Results for Naive Bayes Classifier on df_post4\n",
            "0.287\n",
            "0.9210526315789473\n",
            "\n",
            "Test Results\n",
            "0.298\n",
            "0.8256880733944955\n"
          ],
          "name": "stdout"
        }
      ]
    },
    {
      "cell_type": "code",
      "metadata": {
        "id": "jeH0b8qsID2a",
        "colab_type": "code",
        "colab": {
          "base_uri": "https://localhost:8080/",
          "height": 170
        },
        "outputId": "e08bf624-d5a9-4a29-8a79-178d8b78db74"
      },
      "source": [
        "print(classification_report(y_test_dfp4, gnb_2.predict(X_test_dfp4)))"
      ],
      "execution_count": 53,
      "outputs": [
        {
          "output_type": "stream",
          "text": [
            "              precision    recall  f1-score   support\n",
            "\n",
            "           0       0.92      0.23      0.37       891\n",
            "           1       0.12      0.83      0.20       109\n",
            "\n",
            "    accuracy                           0.30      1000\n",
            "   macro avg       0.52      0.53      0.29      1000\n",
            "weighted avg       0.83      0.30      0.35      1000\n",
            "\n"
          ],
          "name": "stdout"
        }
      ]
    },
    {
      "cell_type": "code",
      "metadata": {
        "id": "aMjcwibnF-Di",
        "colab_type": "code",
        "colab": {
          "base_uri": "https://localhost:8080/",
          "height": 51
        },
        "outputId": "e4294000-ddd7-48b3-ed14-a3d5bbfb21a6"
      },
      "source": [
        "print (confusion_matrix(y_test_dfp4, gnb_2.predict(X_test_dfp4)))"
      ],
      "execution_count": 54,
      "outputs": [
        {
          "output_type": "stream",
          "text": [
            "[[208 683]\n",
            " [ 19  90]]\n"
          ],
          "name": "stdout"
        }
      ]
    },
    {
      "cell_type": "markdown",
      "metadata": {
        "id": "wxqJoMgaIpPv",
        "colab_type": "text"
      },
      "source": [
        "#**Applying kNN on df_post dataset**"
      ]
    },
    {
      "cell_type": "markdown",
      "metadata": {
        "id": "WOsFxCboLlLq",
        "colab_type": "text"
      },
      "source": [
        "\n",
        "\n",
        "> First choosing the optimal number for K (i.e. the number of neighbours to sample from for each instance of the training set)\n",
        "\n"
      ]
    },
    {
      "cell_type": "code",
      "metadata": {
        "id": "TlZqY9ZqIfOt",
        "colab_type": "code",
        "colab": {}
      },
      "source": [
        "error_rate = []\n",
        "\n",
        "for i in range(1,500):\n",
        "    \n",
        "    knn_1 = KNeighborsClassifier(n_neighbors=i)\n",
        "    knn_1 = knn_1.fit(X_train_res,y_train_res)\n",
        "    pred_i = knn_1.predict(X_val)\n",
        "    error_rate.append(np.mean(pred_i != y_val))"
      ],
      "execution_count": 0,
      "outputs": []
    },
    {
      "cell_type": "code",
      "metadata": {
        "id": "tQfnAjSLMUNF",
        "colab_type": "code",
        "colab": {
          "base_uri": "https://localhost:8080/",
          "height": 421
        },
        "outputId": "f3d046ae-e778-4647-946e-169c7350fcbc"
      },
      "source": [
        "plt.figure(figsize=(10,6))\n",
        "plt.plot(range(1,500),error_rate,color='blue', linestyle='dashed', marker='o',\n",
        "         markerfacecolor='red', markersize=10)\n",
        "plt.title('Error Rate vs. K Value on df_post dataset')\n",
        "plt.xlabel('K')\n",
        "plt.ylabel('Error Rate')"
      ],
      "execution_count": 76,
      "outputs": [
        {
          "output_type": "execute_result",
          "data": {
            "text/plain": [
              "Text(0, 0.5, 'Error Rate')"
            ]
          },
          "metadata": {
            "tags": []
          },
          "execution_count": 76
        },
        {
          "output_type": "display_data",
          "data": {
            "image/png": "[encoded data removed]",
            "text/plain": [
              "<Figure size 720x432 with 1 Axes>"
            ]
          },
          "metadata": {
            "tags": []
          }
        }
      ]
    },
    {
      "cell_type": "markdown",
      "metadata": {
        "id": "3FYU509-N7bF",
        "colab_type": "text"
      },
      "source": [
        "The error rate hover between 0.40 to 0.5 in the validation set for k > 150. Therefore let's use k = 151. In practice it's a good practice to choose an odd value for k if the total number of classes are even. "
      ]
    },
    {
      "cell_type": "markdown",
      "metadata": {
        "id": "c1Ij3OxpOZsi",
        "colab_type": "text"
      },
      "source": [
        "**Classification using K = 151**"
      ]
    },
    {
      "cell_type": "code",
      "metadata": {
        "id": "X1339NCEMzvt",
        "colab_type": "code",
        "colab": {}
      },
      "source": [
        "knn_2 = KNeighborsClassifier(n_neighbors=151)"
      ],
      "execution_count": 0,
      "outputs": []
    },
    {
      "cell_type": "code",
      "metadata": {
        "id": "Sh7FnMxcOqZ0",
        "colab_type": "code",
        "colab": {}
      },
      "source": [
        "knn_2 = knn_2.fit(X_train_res, y_train_res)"
      ],
      "execution_count": 0,
      "outputs": []
    },
    {
      "cell_type": "code",
      "metadata": {
        "id": "7NTwMZC4O4SO",
        "colab_type": "code",
        "colab": {
          "base_uri": "https://localhost:8080/",
          "height": 136
        },
        "outputId": "0f1d3f99-6737-47b0-8336-e92560c8ce0c"
      },
      "source": [
        "print ('Validation Results for kNN Classifier on df_post')\n",
        "print (knn_2.score(X_val, y_val))\n",
        "print (recall_score(y_val, knn_2.predict(X_val)))\n",
        "print ('\\nTest Results')\n",
        "print (knn_2.score(X_test, y_test))\n",
        "print (recall_score(y_test, knn_2.predict(X_test)))"
      ],
      "execution_count": 73,
      "outputs": [
        {
          "output_type": "stream",
          "text": [
            "Validation Results for kNN Classifier on df_post\n",
            "0.556\n",
            "0.6403508771929824\n",
            "\n",
            "Test Results\n",
            "0.544\n",
            "0.5596330275229358\n"
          ],
          "name": "stdout"
        }
      ]
    },
    {
      "cell_type": "code",
      "metadata": {
        "id": "DOqd5q1YPv0W",
        "colab_type": "code",
        "colab": {
          "base_uri": "https://localhost:8080/",
          "height": 170
        },
        "outputId": "56b9adb8-a5aa-4081-ab40-f48cf1d3314b"
      },
      "source": [
        "print(classification_report(y_test, knn_2.predict(X_test)))"
      ],
      "execution_count": 74,
      "outputs": [
        {
          "output_type": "stream",
          "text": [
            "              precision    recall  f1-score   support\n",
            "\n",
            "           0       0.91      0.54      0.68       891\n",
            "           1       0.13      0.56      0.21       109\n",
            "\n",
            "    accuracy                           0.54      1000\n",
            "   macro avg       0.52      0.55      0.45      1000\n",
            "weighted avg       0.82      0.54      0.63      1000\n",
            "\n"
          ],
          "name": "stdout"
        }
      ]
    },
    {
      "cell_type": "code",
      "metadata": {
        "id": "O2BHKOBfP8LB",
        "colab_type": "code",
        "colab": {
          "base_uri": "https://localhost:8080/",
          "height": 51
        },
        "outputId": "88896c29-13cb-4d95-bba0-e30f9b3c0683"
      },
      "source": [
        "print (confusion_matrix(y_test, knn_2.predict(X_test)))"
      ],
      "execution_count": 75,
      "outputs": [
        {
          "output_type": "stream",
          "text": [
            "[[483 408]\n",
            " [ 48  61]]\n"
          ],
          "name": "stdout"
        }
      ]
    },
    {
      "cell_type": "markdown",
      "metadata": {
        "id": "tl-Vpog_QQAw",
        "colab_type": "text"
      },
      "source": [
        "#**Applying kNN on df_post4 dataset**"
      ]
    },
    {
      "cell_type": "markdown",
      "metadata": {
        "id": "3z8-PeKjRVvX",
        "colab_type": "text"
      },
      "source": [
        "\n",
        "\n",
        "> First choosing the optimal number for K (i.e. the number of neighbours to sample from for each instance of the training set)\n",
        "\n"
      ]
    },
    {
      "cell_type": "code",
      "metadata": {
        "id": "qL9wim7WQPBa",
        "colab_type": "code",
        "colab": {}
      },
      "source": [
        "error_rate_dfp4 = []\n",
        "\n",
        "for i in range(1,500):\n",
        "    \n",
        "    knn_3 = KNeighborsClassifier(n_neighbors=i)\n",
        "    knn_3 = knn_3.fit(X_train_res_dfp4,y_train_res_dfp4)\n",
        "    pred_i_dfp4 = knn_3.predict(X_val_dfp4)\n",
        "    error_rate_dfp4.append(np.mean(pred_i_dfp4 != y_val_dfp4))"
      ],
      "execution_count": 0,
      "outputs": []
    },
    {
      "cell_type": "code",
      "metadata": {
        "id": "4J-dYI3LQJ5d",
        "colab_type": "code",
        "colab": {
          "base_uri": "https://localhost:8080/",
          "height": 421
        },
        "outputId": "78641fd4-23e9-4c3a-e65d-ca3afdedf76c"
      },
      "source": [
        "plt.figure(figsize=(10,6))\n",
        "plt.plot(range(1,500),error_rate_dfp4,color='blue', linestyle='dashed', marker='o',\n",
        "         markerfacecolor='red', markersize=10)\n",
        "plt.title('Error Rate vs. K Value on df_post4 dataset')\n",
        "plt.xlabel('K')\n",
        "plt.ylabel('Error Rate')"
      ],
      "execution_count": 79,
      "outputs": [
        {
          "output_type": "execute_result",
          "data": {
            "text/plain": [
              "Text(0, 0.5, 'Error Rate')"
            ]
          },
          "metadata": {
            "tags": []
          },
          "execution_count": 79
        },
        {
          "output_type": "display_data",
          "data": {
            "image/png": "[encoded data removed]",
            "text/plain": [
              "<Figure size 720x432 with 1 Axes>"
            ]
          },
          "metadata": {
            "tags": []
          }
        }
      ]
    },
    {
      "cell_type": "markdown",
      "metadata": {
        "id": "TanyiTAkSmjV",
        "colab_type": "text"
      },
      "source": [
        "The error rate hover between 0.45 to 0.55 in the validation set for k > 300. Therefore let's use k = 301. In practice it's a good practice to choose an odd value for k if the total number of classes are even."
      ]
    },
    {
      "cell_type": "markdown",
      "metadata": {
        "id": "0nbyztmJTQyj",
        "colab_type": "text"
      },
      "source": [
        "**Classification using K = 301**"
      ]
    },
    {
      "cell_type": "code",
      "metadata": {
        "id": "B6J_W56fSnhN",
        "colab_type": "code",
        "colab": {}
      },
      "source": [
        "knn_4 = KNeighborsClassifier(n_neighbors=301)"
      ],
      "execution_count": 0,
      "outputs": []
    },
    {
      "cell_type": "code",
      "metadata": {
        "id": "yIGAEfU-TXWe",
        "colab_type": "code",
        "colab": {}
      },
      "source": [
        "knn_4 = knn_4.fit(X_train_res_dfp4, y_train_res_dfp4)"
      ],
      "execution_count": 0,
      "outputs": []
    },
    {
      "cell_type": "code",
      "metadata": {
        "id": "xLjk3y6OTeNL",
        "colab_type": "code",
        "colab": {
          "base_uri": "https://localhost:8080/",
          "height": 136
        },
        "outputId": "4f2a9b78-0898-4ff9-cec2-48643be7c259"
      },
      "source": [
        "print ('Validation Results for kNN Classifier on df_post4')\n",
        "print (knn_4.score(X_val_dfp4, y_val_dfp4))\n",
        "print (recall_score(y_val_dfp4, knn_4.predict(X_val_dfp4)))\n",
        "print ('\\nTest Results')\n",
        "print (knn_4.score(X_test_dfp4, y_test_dfp4))\n",
        "print (recall_score(y_test_dfp4, knn_4.predict(X_test_dfp4)))"
      ],
      "execution_count": 82,
      "outputs": [
        {
          "output_type": "stream",
          "text": [
            "Validation Results for kNN Classifier on df_post4\n",
            "0.516\n",
            "0.5701754385964912\n",
            "\n",
            "Test Results\n",
            "0.517\n",
            "0.6330275229357798\n"
          ],
          "name": "stdout"
        }
      ]
    },
    {
      "cell_type": "code",
      "metadata": {
        "id": "weB5WnQjTwDq",
        "colab_type": "code",
        "colab": {
          "base_uri": "https://localhost:8080/",
          "height": 170
        },
        "outputId": "673207c8-abec-4508-971b-2921d70d2b87"
      },
      "source": [
        "print(classification_report(y_test_dfp4, knn_4.predict(X_test_dfp4)))"
      ],
      "execution_count": 83,
      "outputs": [
        {
          "output_type": "stream",
          "text": [
            "              precision    recall  f1-score   support\n",
            "\n",
            "           0       0.92      0.50      0.65       891\n",
            "           1       0.13      0.63      0.22       109\n",
            "\n",
            "    accuracy                           0.52      1000\n",
            "   macro avg       0.53      0.57      0.44      1000\n",
            "weighted avg       0.83      0.52      0.60      1000\n",
            "\n"
          ],
          "name": "stdout"
        }
      ]
    },
    {
      "cell_type": "code",
      "metadata": {
        "id": "AzcejK5FT4dC",
        "colab_type": "code",
        "colab": {
          "base_uri": "https://localhost:8080/",
          "height": 51
        },
        "outputId": "b5cdb126-8e65-46ce-a4a8-8b14497c69ef"
      },
      "source": [
        "print (confusion_matrix(y_test_dfp4, knn_4.predict(X_test_dfp4)))"
      ],
      "execution_count": 84,
      "outputs": [
        {
          "output_type": "stream",
          "text": [
            "[[448 443]\n",
            " [ 40  69]]\n"
          ],
          "name": "stdout"
        }
      ]
    },
    {
      "cell_type": "markdown",
      "metadata": {
        "id": "b2--oeHzU-Tp",
        "colab_type": "text"
      },
      "source": [
        "**From the error analysis using precision, recall, accuracy and f1 scores it seems logistic regression on df_post would be the best predictor**"
      ]
    },
    {
      "cell_type": "markdown",
      "metadata": {
        "id": "ohCoVxl7VJZ7",
        "colab_type": "text"
      },
      "source": [
        "#**Performing Grid Search on Logistic Regression Classifier using df_post Dataset**"
      ]
    },
    {
      "cell_type": "markdown",
      "metadata": {
        "id": "Tg01hqNAqzQY",
        "colab_type": "text"
      },
      "source": [
        "\n",
        "\n",
        "> **Normalizing and running ADASYN (oversampling on minority class) on the df_post dataset before modelling** \n",
        "\n",
        "\n",
        "> Performing Normalization only on Numeric features\n",
        "\n",
        "\n",
        "\n"
      ]
    },
    {
      "cell_type": "code",
      "metadata": {
        "id": "xxgIwHhhUwZk",
        "colab_type": "code",
        "colab": {}
      },
      "source": [
        "feature_cols_5 = ['age', 'job', 'marital', 'education',  'default', 'balance', 'housing', 'loan', 'contact', 'day', 'campaign', 'pdays', 'previous', 'poutcome']\n",
        "X_5 = df_post[feature_cols_5]\n",
        "y_5 = df_post.y"
      ],
      "execution_count": 0,
      "outputs": []
    },
    {
      "cell_type": "code",
      "metadata": {
        "id": "EUPvMuIhzmBO",
        "colab_type": "code",
        "colab": {}
      },
      "source": [
        "df_post_numeric = X_5[['age', 'balance','day', 'campaign', 'pdays', 'previous']]\n",
        "min_max_scaler = preprocessing.MinMaxScaler()\n",
        "numeric_normed_df_post = min_max_scaler.fit_transform(df_post_numeric)\n",
        "df_post_numeric_normed = pd.DataFrame(numeric_normed_df_post)\n"
      ],
      "execution_count": 0,
      "outputs": []
    },
    {
      "cell_type": "code",
      "metadata": {
        "id": "LWE4QLTY2pWi",
        "colab_type": "code",
        "colab": {}
      },
      "source": [
        "df_post_numeric_normed.columns = ['age', 'balance','day', 'campaign', 'pdays', 'previous']"
      ],
      "execution_count": 0,
      "outputs": []
    },
    {
      "cell_type": "code",
      "metadata": {
        "id": "ckX7RKs_3JzA",
        "colab_type": "code",
        "colab": {}
      },
      "source": [
        "feature_cols_6 = ['job', 'marital', 'education',  'default','housing', 'loan', 'contact','poutcome']\n",
        "df_post_all_n = df_post[feature_cols_6]"
      ],
      "execution_count": 0,
      "outputs": []
    },
    {
      "cell_type": "code",
      "metadata": {
        "id": "-UvIL3eB4I7r",
        "colab_type": "code",
        "colab": {}
      },
      "source": [
        "df_post_all_n = df_post_all_n.join(df_post_numeric_normed)"
      ],
      "execution_count": 0,
      "outputs": []
    },
    {
      "cell_type": "code",
      "metadata": {
        "id": "24X3ruc64-Zj",
        "colab_type": "code",
        "colab": {
          "base_uri": "https://localhost:8080/",
          "height": 34
        },
        "outputId": "fab71d02-4c2d-4fb8-89e4-de262764aad9"
      },
      "source": [
        "#type(y_5)"
      ],
      "execution_count": 114,
      "outputs": [
        {
          "output_type": "execute_result",
          "data": {
            "text/plain": [
              "pandas.core.series.Series"
            ]
          },
          "metadata": {
            "tags": []
          },
          "execution_count": 114
        }
      ]
    },
    {
      "cell_type": "code",
      "metadata": {
        "id": "kpsf8fM04aOo",
        "colab_type": "code",
        "colab": {}
      },
      "source": [
        "#df_post_all_n\n",
        "feature_cols_7 = ['age', 'job', 'marital', 'education',  'default', 'balance', 'housing', 'loan', 'contact', 'day', 'campaign', 'pdays', 'previous', 'poutcome']\n",
        "X_6 = df_post_all_n[feature_cols_7]\n",
        "y_6 = df_post.y"
      ],
      "execution_count": 0,
      "outputs": []
    },
    {
      "cell_type": "code",
      "metadata": {
        "id": "mwnqFp2DuNw2",
        "colab_type": "code",
        "colab": {}
      },
      "source": [
        "X_train_ft, X_test_f, y_train_ft, y_test_f = train_test_split(X_6, y_6, test_size=0.2, random_state=42)\n",
        "X_train_f, X_val_f, y_train_f, y_val_f = train_test_split(X_train_ft, y_train_ft, test_size=0.25, random_state=42)"
      ],
      "execution_count": 0,
      "outputs": []
    },
    {
      "cell_type": "code",
      "metadata": {
        "id": "ommyg0Ajy206",
        "colab_type": "code",
        "colab": {
          "base_uri": "https://localhost:8080/",
          "height": 71
        },
        "outputId": "99f1cfc8-4320-4933-fdc6-79a00ae9f8e6"
      },
      "source": [
        "X_train_f_res, y_train_f_res = makeOverSamplesADASYN_auto(X_train_f, y_train_f)"
      ],
      "execution_count": 118,
      "outputs": [
        {
          "output_type": "stream",
          "text": [
            "/usr/local/lib/python3.6/dist-packages/sklearn/utils/deprecation.py:87: FutureWarning: Function safe_indexing is deprecated; safe_indexing is deprecated in version 0.22 and will be removed in version 0.24.\n",
            "  warnings.warn(msg, category=FutureWarning)\n"
          ],
          "name": "stderr"
        }
      ]
    },
    {
      "cell_type": "code",
      "metadata": {
        "id": "bs7-HAeMAQPA",
        "colab_type": "code",
        "colab": {}
      },
      "source": [
        "#classifier_pen = ['l1', 'l2']\n",
        "#classifier_regularization_hyper_parameter_space = np.logspace(0, 4, 20)\n",
        "#classifier_solver = ['liblinear']\n",
        "#hyper_parameter_grid = dict(regularizer = classifier_pen, solver = classifier_solver)"
      ],
      "execution_count": 0,
      "outputs": []
    },
    {
      "cell_type": "code",
      "metadata": {
        "id": "zkN6t3CGI0uf",
        "colab_type": "code",
        "colab": {}
      },
      "source": [
        "param_grid = {\"C\":np.logspace(0,4,20), \"penalty\":[\"l1\",\"l2\"]}"
      ],
      "execution_count": 0,
      "outputs": []
    },
    {
      "cell_type": "code",
      "metadata": {
        "id": "eFs8KKjXEalo",
        "colab_type": "code",
        "colab": {}
      },
      "source": [
        "logmodel_5 = LogisticRegression(max_iter=500)"
      ],
      "execution_count": 0,
      "outputs": []
    },
    {
      "cell_type": "code",
      "metadata": {
        "id": "DlXPBr_qD_Hf",
        "colab_type": "code",
        "colab": {}
      },
      "source": [
        "GS_logreg = GridSearchCV(logmodel_5, param_grid, cv = 5, verbose=1, n_jobs=-1)"
      ],
      "execution_count": 0,
      "outputs": []
    },
    {
      "cell_type": "code",
      "metadata": {
        "id": "beLkq4hmElrw",
        "colab_type": "code",
        "colab": {
          "base_uri": "https://localhost:8080/",
          "height": 68
        },
        "outputId": "128e3459-fbfa-4f58-ac7d-5981224ab0b4"
      },
      "source": [
        "GS_best_model_logreg = GS_logreg.fit(X_train_f_res, y_train_f_res)"
      ],
      "execution_count": 160,
      "outputs": [
        {
          "output_type": "stream",
          "text": [
            "Fitting 5 folds for each of 40 candidates, totalling 200 fits\n"
          ],
          "name": "stdout"
        },
        {
          "output_type": "stream",
          "text": [
            "[Parallel(n_jobs=-1)]: Using backend LokyBackend with 2 concurrent workers.\n",
            "[Parallel(n_jobs=-1)]: Done 200 out of 200 | elapsed:    7.6s finished\n"
          ],
          "name": "stderr"
        }
      ]
    },
    {
      "cell_type": "code",
      "metadata": {
        "id": "GOgP0PwYEord",
        "colab_type": "code",
        "colab": {
          "base_uri": "https://localhost:8080/",
          "height": 51
        },
        "outputId": "68163aca-a15c-4f9f-aa4d-ec20425135c4"
      },
      "source": [
        "print(\"Tuned hpyerparameters :(best parameters) \",GS_best_model_logreg.best_params_)\n",
        "print(\"accuracy :\",GS_best_model_logreg.best_score_)"
      ],
      "execution_count": 161,
      "outputs": [
        {
          "output_type": "stream",
          "text": [
            "Tuned hpyerparameters :(best parameters)  {'C': 127.42749857031335, 'penalty': 'l2'}\n",
            "accuracy : 0.6738622956123586\n"
          ],
          "name": "stdout"
        }
      ]
    },
    {
      "cell_type": "code",
      "metadata": {
        "id": "KXVxoVWRMMk7",
        "colab_type": "code",
        "colab": {
          "base_uri": "https://localhost:8080/",
          "height": 136
        },
        "outputId": "551f1137-1e65-4b83-9e26-a0b98e82d791"
      },
      "source": [
        "print ('Validation Results for Best Performing Logistic Regression on df_post')\n",
        "print (GS_best_model_logreg.score(X_val_f, y_val_f))\n",
        "print (recall_score(y_val_f, GS_best_model_logreg.predict(X_val_f)))\n",
        "print ('\\nTest Results')\n",
        "print (GS_best_model_logreg.score(X_test_f, y_test_f))\n",
        "print (recall_score(y_test_f, GS_best_model_logreg.predict(X_test_f)))"
      ],
      "execution_count": 162,
      "outputs": [
        {
          "output_type": "stream",
          "text": [
            "Validation Results for Best Performing Logistic Regression on df_post\n",
            "0.632\n",
            "0.6052631578947368\n",
            "\n",
            "Test Results\n",
            "0.641\n",
            "0.6972477064220184\n"
          ],
          "name": "stdout"
        }
      ]
    },
    {
      "cell_type": "code",
      "metadata": {
        "id": "djd4EbqTNThB",
        "colab_type": "code",
        "colab": {
          "base_uri": "https://localhost:8080/",
          "height": 170
        },
        "outputId": "bc1c9047-663e-4d12-ca77-bea16dd1f608"
      },
      "source": [
        "print(classification_report(y_test_f, GS_best_model_logreg.predict(X_test_f)))"
      ],
      "execution_count": 163,
      "outputs": [
        {
          "output_type": "stream",
          "text": [
            "              precision    recall  f1-score   support\n",
            "\n",
            "           0       0.94      0.63      0.76       891\n",
            "           1       0.19      0.70      0.30       109\n",
            "\n",
            "    accuracy                           0.64      1000\n",
            "   macro avg       0.57      0.67      0.53      1000\n",
            "weighted avg       0.86      0.64      0.71      1000\n",
            "\n"
          ],
          "name": "stdout"
        }
      ]
    },
    {
      "cell_type": "code",
      "metadata": {
        "id": "InZatBbTNwQ3",
        "colab_type": "code",
        "colab": {
          "base_uri": "https://localhost:8080/",
          "height": 51
        },
        "outputId": "30d0c3c5-0648-4a81-a1f2-cbf4ddc2d849"
      },
      "source": [
        "print (confusion_matrix(y_test_f, GS_best_model_logreg.predict(X_test_f)))"
      ],
      "execution_count": 164,
      "outputs": [
        {
          "output_type": "stream",
          "text": [
            "[[565 326]\n",
            " [ 33  76]]\n"
          ],
          "name": "stdout"
        }
      ]
    },
    {
      "cell_type": "markdown",
      "metadata": {
        "id": "cwPU90CMP42f",
        "colab_type": "text"
      },
      "source": [
        "#Saving the Final Logistic Regression Model Using \"pickle\" Module"
      ]
    },
    {
      "cell_type": "code",
      "metadata": {
        "id": "VMI6IX5LOIQQ",
        "colab_type": "code",
        "colab": {}
      },
      "source": [
        "filename = 'final_logis_reg.sav'"
      ],
      "execution_count": 0,
      "outputs": []
    },
    {
      "cell_type": "code",
      "metadata": {
        "id": "Jot3x2XhQFOh",
        "colab_type": "code",
        "colab": {}
      },
      "source": [
        "pickle.dump(GS_best_model_logreg, open(filename, 'wb'))"
      ],
      "execution_count": 0,
      "outputs": []
    },
    {
      "cell_type": "code",
      "metadata": {
        "id": "DhBDNLaNQS3l",
        "colab_type": "code",
        "colab": {}
      },
      "source": [
        "files.download('final_logis_reg.sav')"
      ],
      "execution_count": 0,
      "outputs": []
    },
    {
      "cell_type": "markdown",
      "metadata": {
        "id": "3yYVyag2RxE_",
        "colab_type": "text"
      },
      "source": [
        "#ROC and AUC for Final Logistic Regression Model:"
      ]
    },
    {
      "cell_type": "code",
      "metadata": {
        "id": "roij3r3FQyuv",
        "colab_type": "code",
        "colab": {
          "base_uri": "https://localhost:8080/",
          "height": 295
        },
        "outputId": "088d2392-ce5c-4dc7-ff84-198c582e89d7"
      },
      "source": [
        "logit_roc_auc = roc_auc_score(y_test_f, GS_best_model_logreg.predict(X_test_f))\n",
        "fpr, tpr, thresholds = roc_curve(y_test_f, GS_best_model_logreg.predict_proba(X_test_f)[:,1])\n",
        "plt.figure()\n",
        "plt.plot(fpr, tpr, label='Logistic Regression (area = %0.2f)' % logit_roc_auc)\n",
        "plt.plot([0, 1], [0, 1],'r--')\n",
        "plt.xlim([0.0, 1.0])\n",
        "plt.ylim([0.0, 1.05])\n",
        "plt.xlabel('False Positive Rate')\n",
        "plt.ylabel('True Positive Rate')\n",
        "plt.title('Receiver operating characteristic')\n",
        "plt.legend(loc=\"lower right\")\n",
        "plt.savefig('Log_ROC')\n",
        "plt.show()"
      ],
      "execution_count": 178,
      "outputs": [
        {
          "output_type": "display_data",
          "data": {
            "image/png": "[encoded data removed]",
            "text/plain": [
              "<Figure size 432x288 with 1 Axes>"
            ]
          },
          "metadata": {
            "tags": []
          }
        }
      ]
    },
    {
      "cell_type": "markdown",
      "metadata": {
        "id": "pNrNqDInXZU-",
        "colab_type": "text"
      },
      "source": [
        "#Checking the .sav file Loading"
      ]
    },
    {
      "cell_type": "code",
      "metadata": {
        "id": "L4pH6vy3Uewk",
        "colab_type": "code",
        "colab": {
          "base_uri": "https://localhost:8080/",
          "height": 122
        },
        "outputId": "f29a912b-1098-494c-997a-02f150b77553"
      },
      "source": [
        "drive.mount('/gdrive')"
      ],
      "execution_count": 180,
      "outputs": [
        {
          "output_type": "stream",
          "text": [
            "Go to this URL in a browser: https://accounts.google.com/o/oauth2/auth?client_id=947318989803-6bn6qk8qdgf4n4g3pfee6491hc0brc4i.apps.googleusercontent.com&redirect_uri=urn%3aietf%3awg%3aoauth%3a2.0%3aoob&response_type=code&scope=email%20https%3a%2f%2fwww.googleapis.com%2fauth%2fdocs.test%20https%3a%2f%2fwww.googleapis.com%2fauth%2fdrive%20https%3a%2f%2fwww.googleapis.com%2fauth%2fdrive.photos.readonly%20https%3a%2f%2fwww.googleapis.com%2fauth%2fpeopleapi.readonly\n",
            "\n",
            "Enter your authorization code:\n",
            "··········\n",
            "Mounted at /gdrive\n"
          ],
          "name": "stdout"
        }
      ]
    },
    {
      "cell_type": "code",
      "metadata": {
        "id": "WxqsOmUvWhLz",
        "colab_type": "code",
        "colab": {}
      },
      "source": [
        "loaded_final_model = pickle.load(open('final_logis_reg.sav', 'rb'))"
      ],
      "execution_count": 0,
      "outputs": []
    },
    {
      "cell_type": "code",
      "metadata": {
        "id": "Rq8ZNQD-XHcy",
        "colab_type": "code",
        "colab": {}
      },
      "source": [
        "check_result = loaded_final_model.score(X_test_f, y_test_f)"
      ],
      "execution_count": 0,
      "outputs": []
    },
    {
      "cell_type": "code",
      "metadata": {
        "id": "UIqWimiaXQqJ",
        "colab_type": "code",
        "colab": {
          "base_uri": "https://localhost:8080/",
          "height": 34
        },
        "outputId": "9ee785d5-32fe-4a7b-fe0b-fc86739dcc99"
      },
      "source": [
        "print(check_result)"
      ],
      "execution_count": 183,
      "outputs": [
        {
          "output_type": "stream",
          "text": [
            "0.641\n"
          ],
          "name": "stdout"
        }
      ]
    },
    {
      "cell_type": "markdown",
      "metadata": {
        "id": "M1GR30NSXgVM",
        "colab_type": "text"
      },
      "source": [
        "#**Training the Final Model on the Whole Dataset**"
      ]
    },
    {
      "cell_type": "code",
      "metadata": {
        "id": "MEvJ92zGXUBc",
        "colab_type": "code",
        "colab": {}
      },
      "source": [
        "feature_cols_8 = ['age', 'job', 'marital', 'education',  'default', 'balance', 'housing', 'loan', 'contact', 'day', 'campaign', 'pdays', 'previous', 'poutcome']\n",
        "X_8 = df_post[feature_cols_8]\n",
        "y_8 = df_post.y"
      ],
      "execution_count": 0,
      "outputs": []
    },
    {
      "cell_type": "code",
      "metadata": {
        "id": "IzZ2rXklYup2",
        "colab_type": "code",
        "colab": {}
      },
      "source": [
        "#X_train_whole, X_val_whole, y_train_whole, y_val_whole = train_test_split(X_8, y_8, test_size=0.01, random_state=42)"
      ],
      "execution_count": 0,
      "outputs": []
    },
    {
      "cell_type": "code",
      "metadata": {
        "id": "IloTZBAxkDK1",
        "colab_type": "code",
        "colab": {
          "base_uri": "https://localhost:8080/",
          "height": 34
        },
        "outputId": "363e5bcc-1217-41a9-84e0-a4f233c2d5d7"
      },
      "source": [
        "type(X_train_whole)"
      ],
      "execution_count": 235,
      "outputs": [
        {
          "output_type": "execute_result",
          "data": {
            "text/plain": [
              "pandas.core.frame.DataFrame"
            ]
          },
          "metadata": {
            "tags": []
          },
          "execution_count": 235
        }
      ]
    },
    {
      "cell_type": "code",
      "metadata": {
        "id": "DMDZUxhndj5T",
        "colab_type": "code",
        "colab": {
          "base_uri": "https://localhost:8080/",
          "height": 71
        },
        "outputId": "88569177-983a-4e0e-c98f-77e3086794ee"
      },
      "source": [
        "X_train_whole_res, y_train_whole_res = makeOverSamplesADASYN_auto(X_8, y_8)"
      ],
      "execution_count": 236,
      "outputs": [
        {
          "output_type": "stream",
          "text": [
            "/usr/local/lib/python3.6/dist-packages/sklearn/utils/deprecation.py:87: FutureWarning: Function safe_indexing is deprecated; safe_indexing is deprecated in version 0.22 and will be removed in version 0.24.\n",
            "  warnings.warn(msg, category=FutureWarning)\n"
          ],
          "name": "stderr"
        }
      ]
    },
    {
      "cell_type": "code",
      "metadata": {
        "id": "pRvauWd-ZSWf",
        "colab_type": "code",
        "colab": {}
      },
      "source": [
        "logmodel_6 = LogisticRegression(C = 127.42749857031335, penalty = 'l2', max_iter = 500)"
      ],
      "execution_count": 0,
      "outputs": []
    },
    {
      "cell_type": "code",
      "metadata": {
        "id": "gLZlCgAHlSnW",
        "colab_type": "code",
        "colab": {}
      },
      "source": [
        "predicted = cross_val_predict(logmodel_6, X_train_whole_res, y_train_whole_res, cv=10)"
      ],
      "execution_count": 0,
      "outputs": []
    },
    {
      "cell_type": "code",
      "metadata": {
        "id": "vxgFzpCml0dP",
        "colab_type": "code",
        "colab": {
          "base_uri": "https://localhost:8080/",
          "height": 34
        },
        "outputId": "eeb262f4-c7b0-4da9-8b97-b92bcaa46ecc"
      },
      "source": [
        "print (metrics.accuracy_score(y_train_whole_res, predicted))"
      ],
      "execution_count": 240,
      "outputs": [
        {
          "output_type": "stream",
          "text": [
            "0.6208520179372198\n"
          ],
          "name": "stdout"
        }
      ]
    },
    {
      "cell_type": "code",
      "metadata": {
        "id": "LXj3H58hdsUS",
        "colab_type": "code",
        "colab": {
          "base_uri": "https://localhost:8080/",
          "height": 170
        },
        "outputId": "5016d2dc-c4b4-4763-c8bb-2457e7a44916"
      },
      "source": [
        "print (metrics.classification_report(y_train_whole_res, predicted))"
      ],
      "execution_count": 241,
      "outputs": [
        {
          "output_type": "stream",
          "text": [
            "              precision    recall  f1-score   support\n",
            "\n",
            "           0       0.61      0.64      0.62      4414\n",
            "           1       0.63      0.61      0.62      4506\n",
            "\n",
            "    accuracy                           0.62      8920\n",
            "   macro avg       0.62      0.62      0.62      8920\n",
            "weighted avg       0.62      0.62      0.62      8920\n",
            "\n"
          ],
          "name": "stdout"
        }
      ]
    },
    {
      "cell_type": "markdown",
      "metadata": {
        "id": "RZW0SWeefMvF",
        "colab_type": "text"
      },
      "source": [
        "#Saving final model trained on **WHOLE DATASET***"
      ]
    },
    {
      "cell_type": "code",
      "metadata": {
        "id": "xoxFvl74eFnO",
        "colab_type": "code",
        "colab": {}
      },
      "source": [
        "filename = 'final_logis_reg.sav'"
      ],
      "execution_count": 0,
      "outputs": []
    },
    {
      "cell_type": "code",
      "metadata": {
        "id": "Sv0QQlC1eFY_",
        "colab_type": "code",
        "colab": {}
      },
      "source": [
        "pickle.dump(logmodel_6, open(filename, 'wb'))"
      ],
      "execution_count": 0,
      "outputs": []
    },
    {
      "cell_type": "code",
      "metadata": {
        "id": "148U9dgqeFBs",
        "colab_type": "code",
        "colab": {}
      },
      "source": [
        "files.download('final_logis_reg.sav')"
      ],
      "execution_count": 0,
      "outputs": []
    }
  ]
}